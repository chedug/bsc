{
 "cells": [
  {
   "cell_type": "markdown",
   "id": "c3f20548",
   "metadata": {},
   "source": [
    "### Simulation model\n",
    "\n",
    "Take true model\n",
    "\n",
    "$$y_i=\\beta x_i$$\n",
    "\n",
    "$\\vec{X} is a sample of observed variables and \\vec{Y} is a response variable to that sample.\n",
    "\n",
    "We want to compare two models:\n",
    "\n",
    "$$y_i=\\beta_0 + \\beta_1 x_i + \\epsilon_i$$\n",
    "\n",
    "and\n",
    "\n",
    "$$y_i=\\beta x_i + \\epsilon_i$$\n",
    "\n",
    "We assume that $$y_i \\sim \\mathcal{N}(\\beta_0+\\beta_1 x_i, \\sigma ^2)$$\n"
   ]
  },
  {
   "cell_type": "code",
   "execution_count": 168,
   "id": "cf256621",
   "metadata": {},
   "outputs": [
    {
     "data": {
      "image/png": "[encoded data removed]",
      "text/plain": [
       "<Figure size 432x288 with 1 Axes>"
      ]
     },
     "metadata": {
      "needs_background": "light"
     },
     "output_type": "display_data"
    }
   ],
   "source": [
    "import numpy as np\n",
    "import matplotlib.pyplot as plt\n",
    "\n",
    "np.random.seed(42)\n",
    "\n",
    "num_samples = 100  # number of sample points\n",
    "\n",
    "#X = np.linspace(0, 1, num_samples) * 2 - 1\n",
    "X = np.random.rand(num_samples) * 2 - 1\n",
    "\n",
    "sigma = 0.5\n",
    "beta =  1 # true slope\n",
    "beta_0 = 0.0005\n",
    "noise = np.random.normal(0, sigma, num_samples)  # standard normal noise term\n",
    "\n",
    "y = beta * X + noise + beta_0\n",
    "\n",
    "\n",
    "plt.plot(\n",
    "    X, beta * X, color='red', \n",
    "    linewidth=1, label='True Linear Relationship'\n",
    "    )\n",
    "plt.scatter(\n",
    "    X, y, color='white', edgecolor='black', \n",
    "    marker='o', label='Generated Data Points'\n",
    "    )\n",
    "plt.legend()\n",
    "\n",
    "plt.axhline(0, color='green', linewidth=1, linestyle='--')\n",
    "plt.axvline(0, color='green', linewidth=1, linestyle='--')\n",
    "\n",
    "plt.title('')\n",
    "plt.show()"
   ]
  },
  {
   "cell_type": "code",
   "execution_count": 169,
   "id": "6627d7ec",
   "metadata": {},
   "outputs": [
    {
     "data": {
      "image/png": "[encoded data removed]",
      "text/plain": [
       "<Figure size 432x288 with 1 Axes>"
      ]
     },
     "metadata": {
      "needs_background": "light"
     },
     "output_type": "display_data"
    }
   ],
   "source": [
    "from sklearn.linear_model import LinearRegression\n",
    "from linear_regression import linear_regression\n",
    "\n",
    "\n",
    "X = X.reshape(-1, 1)  # values converts it into a numpy array\n",
    "y = y.reshape(-1, 1)\n",
    "\n",
    "Y_pred = linear_regression(X, y)\n",
    "\n",
    "Y_pred_no = linear_regression(X, y, intercept=False)\n",
    "plt.scatter(X, y)\n",
    "plt.plot(X, Y_pred, color='blue', linewidth=0.5)\n",
    "plt.plot(X, Y_pred_no, color='red', linewidth=0.5)\n",
    "plt.show()"
   ]
  },
  {
   "cell_type": "markdown",
   "id": "4bfba03d",
   "metadata": {},
   "source": [
    "We wish to compare Akaike Information Criterion and Bayesian Information Criterion of two models to check goodness of fit. \n",
    "\n",
    "The formula is\n",
    "\n",
    "$$\n",
    "BIC=n \\log(2 \\pi \\sigma^2)+ \\frac{\\sum (y_i-\\hat{y})^2}{\\sigma^2}+k\\log n\n",
    "$$\n",
    "\n",
    "$$\n",
    "AIC = n \\log(2 \\pi \\sigma^2)+ \\frac{\\sum (y_i-\\hat{y})^2}{\\sigma^2}+ 2k\n",
    "$$"
   ]
  },
  {
   "cell_type": "code",
   "execution_count": 170,
   "id": "32786f7f",
   "metadata": {},
   "outputs": [
    {
     "name": "stdout",
     "output_type": "stream",
     "text": [
      "BIC of intercept model is     1110.1645900047424\n",
      "BIC of no-intercept model is   1105.446460218767\n",
      "AIC of intercept model is     1102.3490794467782\n",
      "AIC of no-intercept model is  1100.2361198467909\n"
     ]
    }
   ],
   "source": [
    "from linear_regression import (bayesian_information_criterion,\n",
    "                               akaike_information_criterion)\n",
    "\n",
    "y = y.flatten()\n",
    "X = X.flatten()\n",
    "Y_pred = Y_pred.flatten()\n",
    "Y = Y_pred_no = Y_pred_no.flatten()\n",
    "\n",
    "BIC = bayesian_information_criterion(y, Y_pred, num_samples, sigma, 3)\n",
    "BIC_no = bayesian_information_criterion(y, Y_pred_no, num_samples, sigma, 2)\n",
    "\n",
    "AIC = akaike_information_criterion(y, Y_pred, num_samples, sigma, 3)\n",
    "AIC_no = akaike_information_criterion(y, Y_pred_no, num_samples, sigma, 2)\n",
    "\n",
    "print(f\"BIC of intercept model is {BIC: >22}\")\n",
    "print(f\"BIC of no-intercept model is {BIC_no: >19}\")\n",
    "print(f\"AIC of intercept model is {AIC: >22}\")\n",
    "print(f\"AIC of no-intercept model is {AIC_no: >19}\")\n",
    "\n"
   ]
  },
  {
   "cell_type": "markdown",
   "id": "aed6bc71",
   "metadata": {},
   "source": [
    "We will compare two regression models:\n",
    "\n",
    "One is with intercept term and the other one is a no-intercept\n",
    "\n",
    "$$\n",
    "\\hat{\\beta_1} = \\frac{S_{xy}}{S_{xx}}\n",
    "$$\n",
    "\n",
    "$$\n",
    "S_{xy} = \\sum (x_i- \\bar{x})y_i\n",
    "$$\n",
    "\n",
    "$$\n",
    "S_{xx} = \\sum (x_i- \\bar{x})^2\n",
    "$$\n",
    "\n",
    "$$\n",
    "\\hat{\\beta_0} = \\bar{y} - \\hat{\\beta_1} \\bar{x} \n",
    "$$\n",
    "\n",
    "$$\n",
    "\\hat{\\beta} = \\frac{\\sum x_i y_i}{\\sum x_i^2}\n",
    "$$"
   ]
  },
  {
   "cell_type": "code",
   "execution_count": 171,
   "id": "ce5bc922",
   "metadata": {},
   "outputs": [
    {
     "name": "stdout",
     "output_type": "stream",
     "text": [
      "0.8862182805614739\n",
      "0.8850566932192419\n",
      "-0.006895228007383916\n"
     ]
    }
   ],
   "source": [
    "mean_x = np.average(X)\n",
    "mean_y = np.average(y)\n",
    "\n",
    "Sxx = np.sum((X-mean_x)**2)\n",
    "Sxy = np.sum((X-mean_x)*y)\n",
    "\n",
    "\n",
    "beta_1_hat = Sxy/Sxx\n",
    "beta_0_hat = mean_y - beta_1_hat * mean_x\n",
    "\n",
    "beta_hat = np.sum(X*y)/np.sum(X**2) \n",
    "\n",
    "print(beta_hat)\n",
    "print(beta_1_hat)\n",
    "print(beta_0_hat)"
   ]
  },
  {
   "cell_type": "markdown",
   "id": "8d05959e",
   "metadata": {},
   "source": [
    "Let's plot regression lines:\n"
   ]
  },
  {
   "cell_type": "code",
   "execution_count": 172,
   "id": "f34d1909",
   "metadata": {},
   "outputs": [
    {
     "data": {
      "text/plain": [
       "<matplotlib.legend.Legend at 0x207777fea60>"
      ]
     },
     "execution_count": 172,
     "metadata": {},
     "output_type": "execute_result"
    },
    {
     "data": {
      "image/png": "[encoded data removed]",
      "text/plain": [
       "<Figure size 432x288 with 1 Axes>"
      ]
     },
     "metadata": {
      "needs_background": "light"
     },
     "output_type": "display_data"
    }
   ],
   "source": [
    "plt.scatter(X, y, color='white', edgecolor='black', marker='o')\n",
    "\n",
    "plt.axhline(0, color='green', linewidth=1, linestyle='--')\n",
    "plt.axvline(0, color='green', linewidth=1, linestyle='--')\n",
    "\n",
    "\n",
    "plt.plot(X, beta_1_hat * X + beta_0_hat, color='blue', linewidth=0.5, label='with intercept')\n",
    "plt.plot(X, beta * X + beta_0, color='green', linewidth=0.5, label='true model')\n",
    "plt.plot(X, beta_hat * X, color='red', linewidth=0.5, label='no-intercept')\n",
    "\n",
    "plt.legend()"
   ]
  },
  {
   "cell_type": "markdown",
   "id": "6e82cb60",
   "metadata": {},
   "source": [
    "Zoom a little bit..."
   ]
  },
  {
   "cell_type": "code",
   "execution_count": 173,
   "id": "7ee1635d",
   "metadata": {},
   "outputs": [
    {
     "data": {
      "text/plain": [
       "(-0.5, 0.5)"
      ]
     },
     "execution_count": 173,
     "metadata": {},
     "output_type": "execute_result"
    },
    {
     "data": {
      "image/png": "[encoded data removed]",
      "text/plain": [
       "<Figure size 432x288 with 1 Axes>"
      ]
     },
     "metadata": {
      "needs_background": "light"
     },
     "output_type": "display_data"
    }
   ],
   "source": [
    "plt.scatter(X, y, color='white', edgecolor='black', marker='o')\n",
    "\n",
    "plt.axhline(0, color='green', linewidth=1, linestyle='--')\n",
    "plt.axvline(0, color='green', linewidth=1, linestyle='--')\n",
    "\n",
    "plt.plot(X, beta_1_hat * X + beta_0_hat, color='blue', linewidth=0.5, label='with intercept')\n",
    "plt.plot(X, beta * X + beta_0, color='green', linewidth=0.5, label='true model')\n",
    "plt.plot(X, beta_hat * X, color='red', linewidth=0.5, label='no-intercept')\n",
    "\n",
    "plt.legend()\n",
    "\n",
    "plt.xlim(-0.5, 0.5) \n",
    "plt.ylim(-0.5, 0.5)  \n"
   ]
  },
  {
   "cell_type": "markdown",
   "id": "3a7c6f6b",
   "metadata": {},
   "source": [
    "Let's compare sum of squares of differences between fitted response values and true response values of two models and call the value $SS_{dev}$, or sum of square deviations (from true model), or $SSD$.\n",
    "($SS_{dev} = \\sum (y_i-\\hat{y_i})^2$)"
   ]
  },
  {
   "cell_type": "code",
   "execution_count": 174,
   "id": "35e39072",
   "metadata": {},
   "outputs": [
    {
     "name": "stdout",
     "output_type": "stream",
     "text": [
      "SSD of intercept model: 0.463055398522126\n",
      "SSD of no-intercept model: 0.4576661532561158\n"
     ]
    }
   ],
   "source": [
    "y_hat = beta_1_hat * X + beta_0_hat  # intercept model response variable\n",
    "y_hat_hat = beta_hat * X  # no-intercept response variable\n",
    "\n",
    "\n",
    "y = beta * X + beta_0\n",
    "\n",
    "SS_dev_intercept = np.sum((y-y_hat)**2)\n",
    "SS_dev_no_intercept = np.sum((y-y_hat_hat)**2)\n",
    "\n",
    "print(f\"SSD of intercept model: {SS_dev_intercept}\")\n",
    "print(f\"SSD of no-intercept model: {SS_dev_no_intercept}\")"
   ]
  },
  {
   "cell_type": "markdown",
   "id": "e2d189e4",
   "metadata": {},
   "source": [
    "### Same calculations but many times"
   ]
  },
  {
   "cell_type": "code",
   "execution_count": 175,
   "id": "01b77d89",
   "metadata": {},
   "outputs": [
    {
     "name": "stdout",
     "output_type": "stream",
     "text": [
      "1.024997471419058\n",
      "1.0008989476847967\n",
      "0.20582101220091467\n",
      "0.10321539375553428\n",
      "Absolute frequency of how many times no-intercept model showed lower SSD: 872\n",
      "Absolute frequency of how many times no-intercept model showed lower BIC: 1000\n",
      "Absolute frequency of how many times no-intercept model showed lower AIC: 1000\n"
     ]
    }
   ],
   "source": [
    "SS_dev_intercept_mean = 0\n",
    "SS_dev_no_intercept_mean = 0\n",
    "\n",
    "\n",
    "SSD_sum = 0  # counts how many times no intercept model was better in terms of SSD\n",
    "BIC_sum = 0\n",
    "AIC_sum = 0\n",
    "\n",
    "num_samples = 1000\n",
    "X = np.random.rand(num_samples) * 2 - 1\n",
    "\n",
    "for i in range(1000):\n",
    "\n",
    "    beta =  1  # true slope\n",
    "    beta_0 = 0.005\n",
    "    sigma = 1\n",
    "    noise = np.random.normal(0, sigma, num_samples)  # standard normal noise term\n",
    "\n",
    "    y = beta * X + noise + beta_0\n",
    "\n",
    "    mean_x = np.average(X)\n",
    "    mean_y = np.average(y)\n",
    "\n",
    "    Sxx = np.sum((X-mean_x)**2)\n",
    "    Sxy = np.sum((X-mean_x)*y)\n",
    "\n",
    "\n",
    "    beta_1_hat = Sxy/Sxx\n",
    "    beta_0_hat = mean_y - beta_1_hat * mean_x\n",
    "\n",
    "    beta_hat = np.sum(X*y)/np.sum(X**2)\n",
    "\n",
    "    y_hat = linear_regression(X, y).flatten()  # intercept model response variable\n",
    "    y_hat_hat = linear_regression(X, y, intercept=False).flatten()  # no-intercept response variable\n",
    "    \n",
    "    BIC_no = bayesian_information_criterion(y, y_hat_hat, num_samples, sigma, k=2)\n",
    "    BIC = bayesian_information_criterion(y, y_hat, num_samples, sigma, k=3)\n",
    "    \n",
    "    AIC = akaike_information_criterion(y, y_hat, num_samples, sigma, 3)\n",
    "    AIC_no = akaike_information_criterion(y, y_hat_hat, num_samples, sigma, 2)\n",
    "    \n",
    "    if BIC_no < BIC:\n",
    "        BIC_sum += 1\n",
    "\n",
    "    if AIC_no < AIC:\n",
    "        AIC_sum += 1\n",
    "\n",
    "    y_true = beta * X + beta_0\n",
    "\n",
    "    SS_dev_intercept = np.sum((y_true-y_hat)**2)\n",
    "    SS_dev_no_intercept = np.sum((y_true-y_hat_hat)**2)\n",
    "\n",
    "    \n",
    "    if SS_dev_no_intercept < SS_dev_intercept:\n",
    "        SSD_sum += 1\n",
    "        \n",
    "    \n",
    "    SS_dev_intercept_mean += SS_dev_intercept\n",
    "    SS_dev_no_intercept_mean += SS_dev_no_intercept\n",
    "    \n",
    "print(num_samples*(beta_0**2)-(beta_0**2)*(num_samples**2)*\n",
    "      (mean_x**2)/np.sum(X**2)+1+np.sum(X**2)*(beta-beta**2))\n",
    "print((np.sum(X**2)/ num_samples+np.sum(X**2)-2*num_samples*mean_x**2)/np.sum((X-mean_x)**2))\n",
    "print(SS_dev_intercept_mean/10000)\n",
    "print(SS_dev_no_intercept_mean/10000)\n",
    "print(f\"Absolute frequency of how many times \" \n",
    "      f\"no-intercept model showed lower SSD: {SSD_sum}\")\n",
    "print(f\"Absolute frequency of how many times \" \n",
    "      f\"no-intercept model showed lower BIC: {BIC_sum}\")\n",
    "print(f\"Absolute frequency of how many times \"\n",
    "      f\"no-intercept model showed lower AIC: {AIC_sum}\")"
   ]
  },
  {
   "cell_type": "markdown",
   "id": "a2683aab",
   "metadata": {},
   "source": [
    "#### Find interesting values for variance and intercept term\n",
    "\n",
    "Find values for variance and intercept term, when BIC and SSD will be equal in two models.\n",
    "\n",
    "It is hard to check the exact equality since we have to account for randomness of data, but we can get close enough by making a lot of simulations and then taking the average of the statistics that we want to estimate, in our case SSD and BIC"
   ]
  },
  {
   "cell_type": "code",
   "execution_count": 176,
   "id": "5455dc87",
   "metadata": {},
   "outputs": [
    {
     "data": {
      "image/png": "[encoded data removed]",
      "text/plain": [
       "<Figure size 432x288 with 1 Axes>"
      ]
     },
     "metadata": {
      "needs_background": "light"
     },
     "output_type": "display_data"
    }
   ],
   "source": [
    "delta_SSD = np.zeros(1000)\n",
    "delta_AIC = np.zeros(1000)\n",
    "delta_BIC = np.zeros(1000)\n",
    "alphas = np.zeros(1000)\n",
    "\n",
    "np.random.seed(42)\n",
    "\n",
    "for increment in range(1000):\n",
    "    SS_dev_intercept_mean = 0\n",
    "    SS_dev_no_intercept_mean = 0\n",
    "    AIC_intercept_mean = 0\n",
    "    AIC_no_intercept_mean = 0\n",
    "    BIC_intercept_mean = 0\n",
    "    BIC_no_intercept_mean = 0\n",
    "    num_samples = 100 \n",
    "    for i in range(100):\n",
    "\n",
    "        beta =  1  # true slope\n",
    "        beta_0 = 0 + increment/5000\n",
    "        noise = np.random.normal(0, 1, num_samples)  # standard normal noise term\n",
    "        X = np.random.rand(num_samples) * 2 - 1\n",
    "        y = beta * X + noise + beta_0\n",
    "\n",
    "        mean_x = np.average(X)\n",
    "        mean_y = np.average(y)\n",
    "\n",
    "        Sxx = np.sum((X-mean_x)**2)\n",
    "        Sxy = np.sum((X-mean_x)*(y))\n",
    "\n",
    "\n",
    "        beta_1_hat = Sxy/Sxx\n",
    "        beta_0_hat = mean_y - beta_1_hat * mean_x\n",
    "\n",
    "        beta_hat = np.sum(X*y)/np.sum(X**2)\n",
    "\n",
    "        # y_hat = linear_regression(X, y).flatten()  # intercept model response variable\n",
    "        # y_hat_hat = linear_regression(X, y, intercept=False).flatten()  # no-intercept response variable\n",
    "\n",
    "        y_hat = beta_1_hat * X + beta_0_hat  # intercept model response variable\n",
    "        y_hat_hat = beta_hat * X  # no-intercept response variable\n",
    "\n",
    "        y_true = beta * X + beta_0\n",
    "\n",
    "        SS_dev_intercept = np.sum((y_true-y_hat)**2)\n",
    "        SS_dev_no_intercept = np.sum((y_true-y_hat_hat)**2)\n",
    "\n",
    "        AIC_intercept = akaike_information_criterion(y, y_hat, num_samples, sigma, 3)\n",
    "        AIC_no_intercept = akaike_information_criterion(y, y_hat_hat, num_samples, sigma, 2)\n",
    "\n",
    "        BIC_intercept = bayesian_information_criterion(y, y_hat, num_samples, sigma, 3)\n",
    "        BIC_no_intercept = bayesian_information_criterion(y, y_hat_hat, num_samples, sigma, 2)\n",
    "\n",
    "        AIC_intercept_mean += AIC_intercept\n",
    "        AIC_no_intercept_mean += AIC_no_intercept\n",
    "\n",
    "        BIC_intercept_mean += BIC_intercept\n",
    "        BIC_no_intercept_mean += BIC_no_intercept\n",
    "\n",
    "        SS_dev_intercept_mean += SS_dev_intercept\n",
    "        SS_dev_no_intercept_mean += SS_dev_no_intercept\n",
    "\n",
    "    SS_dev_intercept_mean /= num_samples\n",
    "    SS_dev_no_intercept_mean /= num_samples\n",
    "\n",
    "    AIC_intercept_mean /= num_samples\n",
    "    AIC_no_intercept_mean /= num_samples\n",
    "\n",
    "    BIC_intercept_mean /= num_samples\n",
    "    BIC_no_intercept_mean /= num_samples\n",
    "\n",
    "    delta_SSD[increment] = SS_dev_no_intercept_mean - SS_dev_intercept_mean\n",
    "    delta_AIC[increment] = AIC_no_intercept_mean - AIC_intercept_mean\n",
    "    delta_BIC[increment] = BIC_no_intercept_mean - BIC_intercept_mean\n",
    "    alphas[increment] = beta_0\n",
    "\n",
    "zeros = np.zeros_like(alphas)\n",
    "\n",
    "plt.plot(alphas, zeros, '--', linewidth=0.5)\n",
    "plt.plot(alphas, delta_SSD, color='blue', linewidth=0.5)\n",
    "\n",
    "plt.xlabel(r\"$\\beta_0$\")\n",
    "plt.ylabel(r\"$\\Delta SSD$\")\n",
    "plt.show()\n"
   ]
  },
  {
   "cell_type": "markdown",
   "id": "b2dd00c7",
   "metadata": {},
   "source": [
    "While as $\\alpha$ grows we clearly see that the full model becomes better fit, however at a very small values of $\\alpha$ no-intercept model performs better on average"
   ]
  },
  {
   "cell_type": "code",
   "execution_count": 177,
   "id": "c52f27e6",
   "metadata": {},
   "outputs": [],
   "source": [
    "for i in range(1000):\n",
    "\n",
    "    beta =  1  # true slope\n",
    "    beta_0 = 0 + increment/5000\n",
    "    noise = np.random.normal(0, 1, num_samples)  # standard normal noise term\n",
    "    X = np.random.rand(num_samples) * 2 - 1\n",
    "    y = beta * X + noise + beta_0\n",
    "\n",
    "    mean_x = np.average(X)\n",
    "    mean_y = np.average(y)\n",
    "\n",
    "    Sxx = np.sum((X-mean_x)**2)\n",
    "    Sxy = np.sum((X-mean_x)*(y))\n",
    "\n",
    "\n",
    "    beta_1_hat = Sxy/Sxx\n",
    "    beta_0_hat = mean_y - beta_1_hat * mean_x\n",
    "\n",
    "    beta_hat = np.sum(X*y)/np.sum(X**2)\n",
    "\n",
    "    "
   ]
  },
  {
   "cell_type": "code",
   "execution_count": null,
   "id": "175b9d71",
   "metadata": {},
   "outputs": [],
   "source": []
  }
 ],
 "metadata": {
  "kernelspec": {
   "display_name": "Python 3 (ipykernel)",
   "language": "python",
   "name": "python3"
  },
  "language_info": {
   "codemirror_mode": {
    "name": "ipython",
    "version": 3
   },
   "file_extension": ".py",
   "mimetype": "text/x-python",
   "name": "python",
   "nbconvert_exporter": "python",
   "pygments_lexer": "ipython3",
   "version": "3.9.12"
  }
 },
 "nbformat": 4,
 "nbformat_minor": 5
}

{
 "cells": [
  {
   "cell_type": "markdown",
   "id": "c3f20548",
   "metadata": {},
   "source": [
    "### Simulation model\n",
    "\n",
    "Take true model\n",
    "\n",
    "$$y_i=\\beta x_i$$\n",
    "\n",
    "$\\vec{X} is a sample of observed variables and \\vec{Y} is a response variable to that sample.\n",
    "\n",
    "We want to compare two models:\n",
    "\n",
    "$$y_i=\\beta_0 + \\beta_1 x_i + \\epsilon_i$$\n",
    "\n",
    "and\n",
    "\n",
    "$$y_i=\\beta x_i + \\epsilon_i$$\n",
    "\n",
    "We assume that $$y_i \\sim \\mathcal{N}(\\beta_0+\\beta_1 x_i, \\sigma ^2)$$\n"
   ]
  },
  {
   "cell_type": "code",
   "execution_count": 132,
   "id": "cf256621",
   "metadata": {},
   "outputs": [
    {
     "data": {
      "image/png": "[encoded data removed]",
      "text/plain": [
       "<Figure size 432x288 with 1 Axes>"
      ]
     },
     "metadata": {
      "needs_background": "light"
     },
     "output_type": "display_data"
    }
   ],
   "source": [
    "import numpy as np\n",
    "import matplotlib.pyplot as plt\n",
    "\n",
    "np.random.seed(42)\n",
    "\n",
    "num_samples = 100  # number of sample points\n",
    "\n",
    "#X = np.linspace(0, 1, num_samples) * 2 - 1\n",
    "X = np.random.rand(num_samples) * 2 - 1\n",
    "\n",
    "beta =  1 # true slope\n",
    "beta_0 = 0.05\n",
    "noise = np.random.normal(0, 0.5, num_samples)  # standard normal noise term\n",
    "\n",
    "y = beta * X + noise + beta_0\n",
    "\n",
    "\n",
    "plt.plot(\n",
    "    X, beta * X, color='red', linewidth=1, label='True Linear Relationship'\n",
    "    )\n",
    "plt.scatter(\n",
    "    X, y, color='white', edgecolor='black', marker='o', label='Generated Data Points'\n",
    "    )\n",
    "plt.legend()\n",
    "\n",
    "plt.axhline(0, color='green', linewidth=1, linestyle='--')\n",
    "plt.axvline(0, color='green', linewidth=1, linestyle='--')\n",
    "\n",
    "plt.title('')\n",
    "plt.show()"
   ]
  },
  {
   "cell_type": "code",
   "execution_count": 133,
   "id": "6627d7ec",
   "metadata": {},
   "outputs": [
    {
     "data": {
      "image/png": "[encoded data removed]",
      "text/plain": [
       "<Figure size 432x288 with 1 Axes>"
      ]
     },
     "metadata": {
      "needs_background": "light"
     },
     "output_type": "display_data"
    }
   ],
   "source": [
    "from sklearn.linear_model import LinearRegression\n",
    "from linear_regression import linear_regression\n",
    "\n",
    "\n",
    "X = X.reshape(-1, 1)  # values converts it into a numpy array\n",
    "y = y.reshape(-1, 1)\n",
    "\n",
    "Y_pred = linear_regression(X, y)\n",
    "\n",
    "Y_pred_no = linear_regression(X, y, intercept=False)\n",
    "\n",
    "\n",
    "plt.scatter(X, y)\n",
    "plt.plot(X, Y_pred, color='blue', linewidth=0.5)\n",
    "plt.plot(X, Y_pred_no, color='red', linewidth=0.5)\n",
    "plt.show()"
   ]
  },
  {
   "cell_type": "markdown",
   "id": "4bfba03d",
   "metadata": {},
   "source": [
    "We wish to compare Akaike Information Criterion of two models to check goodness of fit. \n",
    "\n",
    "The formula is\n",
    "\n",
    "$$\n",
    "BIC=n \\log(2 \\pi \\sigma^2)+ \\frac{\\sum (y_i-\\hat{y})^2}{\\sigma^2}+2\\log n\n",
    "$$"
   ]
  },
  {
   "cell_type": "code",
   "execution_count": 134,
   "id": "32786f7f",
   "metadata": {},
   "outputs": [
    {
     "name": "stdout",
     "output_type": "stream",
     "text": [
      "457.6345669168381\n",
      "451.95123880008833\n",
      "324.4746429064996\n",
      "325.01372187188036\n"
     ]
    }
   ],
   "source": [
    "from linear_regression import bayesian_information_criterion\n",
    "AIC_no = num_samples * np.log(2 * np.pi)+2 + np.sum((y+Y_pred_no)**2)+2*np.log(num_samples)\n",
    "AIC = num_samples * np.log(2 * np.pi)+2 + np.sum((y+Y_pred)**2)+2*np.log(num_samples)\n",
    "\n",
    "BIC = bayesian_information_criterion(y, Y_pred, num_samples, 1, 3)\n",
    "BIC_no = bayesian_information_criterion(y, Y_pred_no, num_samples, 1, 2)\n",
    "\n",
    "print(BIC)\n",
    "print(BIC_no)\n",
    "\n",
    "print(AIC_no)\n",
    "print(AIC)"
   ]
  },
  {
   "cell_type": "markdown",
   "id": "aed6bc71",
   "metadata": {},
   "source": [
    "We will compare two regression models:\n",
    "\n",
    "One is with intercept term and the other one is a no-intercept\n",
    "\n",
    "$$\n",
    "\\hat{\\beta_1} = \\frac{S_{xy}}{S_{xx}}\n",
    "$$\n",
    "\n",
    "$$\n",
    "S_{xy} = \\sum (x_i- \\bar{x})y_i\n",
    "$$\n",
    "\n",
    "$$\n",
    "S_{xx} = \\sum (x_i- \\bar{x})^2\n",
    "$$\n",
    "\n",
    "$$\n",
    "\\hat{\\beta_0} = \\bar{y} - \\hat{\\beta_1} \\bar{x} \n",
    "$$\n",
    "\n",
    "$$\n",
    "\\hat{\\beta} = \\frac{\\sum x_i y_i}{\\sum x_i^2}\n",
    "$$"
   ]
  },
  {
   "cell_type": "code",
   "execution_count": 135,
   "id": "ce5bc922",
   "metadata": {},
   "outputs": [
    {
     "name": "stdout",
     "output_type": "stream",
     "text": [
      "0.8778793868542756\n",
      "0.8850566932192417\n",
      "0.042604771992616135\n"
     ]
    }
   ],
   "source": [
    "mean_x = np.average(X)\n",
    "mean_y = np.average(y)\n",
    "\n",
    "Sxx = np.sum((X-mean_x)**2)\n",
    "Sxy = np.sum((X-mean_x)*y)\n",
    "\n",
    "\n",
    "beta_1_hat = Sxy/Sxx\n",
    "beta_0_hat = mean_y - beta_1_hat * mean_x\n",
    "\n",
    "beta_hat = np.sum(X*y)/np.sum(X**2) \n",
    "\n",
    "print(beta_hat)\n",
    "print(beta_1_hat)\n",
    "print(beta_0_hat)"
   ]
  },
  {
   "cell_type": "markdown",
   "id": "8d05959e",
   "metadata": {},
   "source": [
    "Let's plot regression lines:\n"
   ]
  },
  {
   "cell_type": "code",
   "execution_count": 136,
   "id": "f34d1909",
   "metadata": {},
   "outputs": [
    {
     "data": {
      "text/plain": [
       "<matplotlib.legend.Legend at 0x1c506b62fa0>"
      ]
     },
     "execution_count": 136,
     "metadata": {},
     "output_type": "execute_result"
    },
    {
     "data": {
      "image/png": "[encoded data removed]",
      "text/plain": [
       "<Figure size 432x288 with 1 Axes>"
      ]
     },
     "metadata": {
      "needs_background": "light"
     },
     "output_type": "display_data"
    }
   ],
   "source": [
    "plt.scatter(X, y, color='white', edgecolor='black', marker='o')\n",
    "\n",
    "plt.axhline(0, color='green', linewidth=1, linestyle='--')\n",
    "plt.axvline(0, color='green', linewidth=1, linestyle='--')\n",
    "\n",
    "\n",
    "plt.plot(X, beta_1_hat * X + beta_0_hat, color='blue', linewidth=0.5, label='with intercept')\n",
    "plt.plot(X, beta * X + beta_0, color='green', linewidth=0.5, label='true model')\n",
    "plt.plot(X, beta_hat * X, color='red', linewidth=0.5, label='no-intercept')\n",
    "\n",
    "plt.legend()"
   ]
  },
  {
   "cell_type": "markdown",
   "id": "6e82cb60",
   "metadata": {},
   "source": [
    "Zoom a little bit..."
   ]
  },
  {
   "cell_type": "code",
   "execution_count": 137,
   "id": "7ee1635d",
   "metadata": {},
   "outputs": [
    {
     "data": {
      "text/plain": [
       "(-0.5, 0.5)"
      ]
     },
     "execution_count": 137,
     "metadata": {},
     "output_type": "execute_result"
    },
    {
     "data": {
      "image/png": "[encoded data removed]",
      "text/plain": [
       "<Figure size 432x288 with 1 Axes>"
      ]
     },
     "metadata": {
      "needs_background": "light"
     },
     "output_type": "display_data"
    }
   ],
   "source": [
    "plt.scatter(X, y, color='white', edgecolor='black', marker='o')\n",
    "\n",
    "plt.axhline(0, color='green', linewidth=1, linestyle='--')\n",
    "plt.axvline(0, color='green', linewidth=1, linestyle='--')\n",
    "\n",
    "plt.plot(X, beta_1_hat * X + beta_0_hat, color='blue', linewidth=0.5, label='with intercept')\n",
    "plt.plot(X, beta * X + beta_0, color='green', linewidth=0.5, label='true model')\n",
    "plt.plot(X, beta_hat * X, color='red', linewidth=0.5, label='no-intercept')\n",
    "\n",
    "plt.legend()\n",
    "\n",
    "plt.xlim(-0.5, 0.5) \n",
    "plt.ylim(-0.5, 0.5)  \n"
   ]
  },
  {
   "cell_type": "markdown",
   "id": "3a7c6f6b",
   "metadata": {},
   "source": [
    "Let's compare sum of squares of differences between fitted response values and true response values of two models and call the value $SS_{dev}$, or sum of square deviations (from true model), or $SSD$.\n",
    "($SS_{dev} = \\sum (y_i-\\hat{y_i})^2$)"
   ]
  },
  {
   "cell_type": "code",
   "execution_count": 138,
   "id": "35e39072",
   "metadata": {},
   "outputs": [
    {
     "name": "stdout",
     "output_type": "stream",
     "text": [
      "SSD of intercept model: 0.46305539852212707\n",
      "SSD of no-intercept model: 0.705129691181008\n"
     ]
    }
   ],
   "source": [
    "y_hat = beta_1_hat * X + beta_0_hat  # intercept model response variable\n",
    "y_hat_hat = beta_hat * X  # no-intercept response variable\n",
    "\n",
    "\n",
    "y = beta * X + beta_0\n",
    "\n",
    "SS_dev_intercept = np.sum((y-y_hat)**2)\n",
    "SS_dev_no_intercept = np.sum((y-y_hat_hat)**2)\n",
    "\n",
    "print(f\"SSD of intercept model: {SS_dev_intercept}\")\n",
    "print(f\"SSD of no-intercept model: {SS_dev_no_intercept}\")"
   ]
  },
  {
   "cell_type": "markdown",
   "id": "e2d189e4",
   "metadata": {},
   "source": [
    "### Same calculations but many times"
   ]
  },
  {
   "cell_type": "code",
   "execution_count": 139,
   "id": "01b77d89",
   "metadata": {},
   "outputs": [
    {
     "name": "stdout",
     "output_type": "stream",
     "text": [
      "1.000002499747142\n",
      "1.0008989476847967\n",
      "6978.722110196805\n",
      "6968.7273745302755\n",
      "83\n",
      "95\n"
     ]
    }
   ],
   "source": [
    "SS_dev_intercept_mean = 0\n",
    "SS_dev_no_intercept_mean = 0\n",
    "\n",
    "\n",
    "SSD_sum = 0  # counts how many times no intercept model was better in terms of SSD\n",
    "BIC_sum = 0\n",
    "\n",
    "num_samples = 1000\n",
    "X = np.random.rand(num_samples) * 2 - 1\n",
    "\n",
    "for i in range(100):\n",
    "\n",
    "    beta =  1  # true slope\n",
    "    beta_0 = 0.00005\n",
    "    sigma = 1\n",
    "    noise = np.random.normal(0, sigma, num_samples)  # standard normal noise term\n",
    "\n",
    "    y = beta * X + noise + beta_0\n",
    "\n",
    "    mean_x = np.average(X)\n",
    "    mean_y = np.average(y)\n",
    "\n",
    "    Sxx = np.sum((X-mean_x)**2)\n",
    "    Sxy = np.sum((X-mean_x)*y)\n",
    "\n",
    "\n",
    "    beta_1_hat = Sxy/Sxx\n",
    "    beta_0_hat = mean_y - beta_1_hat * mean_x\n",
    "\n",
    "    beta_hat = np.sum(X*y)/np.sum(X**2)\n",
    "\n",
    "\n",
    "    y_hat = linear_regression(X, y)  # intercept model response variable\n",
    "    y_hat_hat = linear_regression(X, y, intercept=False)  # no-intercept response variable\n",
    "    \n",
    "    BIC_no = bayesian_information_criterion(y, y_hat_hat, num_samples, sigma, k=2)\n",
    "    BIC = bayesian_information_criterion(y, y_hat, num_samples, sigma, k=3)\n",
    "    \n",
    "    if BIC_no < BIC:\n",
    "        BIC_sum += 1\n",
    "\n",
    "    y_true = beta * X + beta_0\n",
    "\n",
    "    SS_dev_intercept = np.sum((y_true-y_hat)**2)\n",
    "    SS_dev_no_intercept = np.sum((y_true-y_hat_hat)**2)\n",
    "\n",
    "    \n",
    "    if SS_dev_no_intercept < SS_dev_intercept:\n",
    "        SSD_sum += 1\n",
    "        \n",
    "    \n",
    "    SS_dev_intercept_mean += SS_dev_intercept\n",
    "    SS_dev_no_intercept_mean += SS_dev_no_intercept\n",
    "    \n",
    "print(num_samples*(beta_0**2)-(beta_0**2)*(num_samples**2)*(mean_x**2)/np.sum(X**2)+1+np.sum(X**2)*(beta-beta**2))\n",
    "print((np.sum(X**2)/ num_samples+np.sum(X**2)-2*num_samples*mean_x**2)/np.sum((X-mean_x)**2))\n",
    "print(SS_dev_intercept_mean/10000)\n",
    "print(SS_dev_no_intercept_mean/10000)\n",
    "print(f\"{SSD_sum}\")\n",
    "print(f\"{BIC_sum}\")"
   ]
  },
  {
   "cell_type": "markdown",
   "id": "a2683aab",
   "metadata": {},
   "source": [
    "#### Find interesting values for variance and intercept term\n",
    "\n",
    "Find values for variance and intercept term, when BIC and SSD will be equal in two models.\n",
    "\n",
    "It is hard to check the exact equality since we have to account for randomness of data, but we can get close enough by making a lot of simulations and then taking the average of the statistics that we want to estimate, in our case SSD and BIC"
   ]
  },
  {
   "cell_type": "code",
   "execution_count": 142,
   "id": "5455dc87",
   "metadata": {},
   "outputs": [
    {
     "ename": "SyntaxError",
     "evalue": "invalid syntax (2479352963.py, line 25)",
     "output_type": "error",
     "traceback": [
      "\u001b[1;36m  Input \u001b[1;32mIn [142]\u001b[1;36m\u001b[0m\n\u001b[1;33m    beta_1_hat = Sxy/Sxx\u001b[0m\n\u001b[1;37m    ^\u001b[0m\n\u001b[1;31mSyntaxError\u001b[0m\u001b[1;31m:\u001b[0m invalid syntax\n"
     ]
    }
   ],
   "source": [
    "delta_SSD = np.zeros(1000)\n",
    "alphas = np.zeros(1000)\n",
    "\n",
    "np.random.seed(42)\n",
    "\n",
    "for increment in range(1000):\n",
    "    SS_dev_intercept_mean = 0\n",
    "    SS_dev_no_intercept_mean = 0\n",
    "    num_samples = 100 \n",
    "    for i in range(100):\n",
    "\n",
    "        beta =  1  # true slope\n",
    "        beta_0 = 0 + increment/5000\n",
    "        noise = np.random.normal(0, 1, num_samples)  # standard normal noise term\n",
    "        X = np.random.rand(num_samples) * 2 - 1\n",
    "        y = beta * X + noise + beta_0\n",
    "\n",
    "        mean_x = np.average(X)\n",
    "        mean_y = np.average(y)\n",
    "\n",
    "        Sxx = np.sum((X-mean_x)**2)\n",
    "        Sxy = np.sum((X-mean_x)*(y))\n",
    "\n",
    "\n",
    "        beta_1_hat = Sxy/Sxx\n",
    "        beta_0_hat = mean_y - beta_1_hat * mean_x\n",
    "\n",
    "        beta_hat = np.sum(X*y)/np.sum(X**2)\n",
    "\n",
    "        # y_hat = linear_regression(X, y)\n",
    "        # y_hat_hat = linear_regression(X,y, False)\n",
    "\n",
    "        y_hat = beta_1_hat * X + beta_0_hat  # intercept model response variable\n",
    "        y_hat_hat = beta_hat * X  # no-intercept response variable\n",
    "\n",
    "        y_true = beta * X + beta_0\n",
    "\n",
    "        SS_dev_intercept = np.sum((y_true-y_hat)**2)\n",
    "        SS_dev_no_intercept = np.sum((y_true-y_hat_hat)**2)\n",
    "\n",
    "        SS_dev_intercept_mean += SS_dev_intercept\n",
    "        SS_dev_no_intercept_mean += SS_dev_no_intercept\n",
    "\n",
    "    SS_dev_intercept_mean /= 100\n",
    "    SS_dev_no_intercept_mean /= 100\n",
    "\n",
    "    delta_SSD[increment] = SS_dev_no_intercept_mean - SS_dev_intercept_mean\n",
    "    alphas[increment] = beta_0\n",
    "\n",
    "zeros = np.zeros_like(alphas)\n",
    "\n",
    "plt.plot(alphas, zeros, '--', linewidth=0.5)\n",
    "plt.plot(alphas, delta_SSD, color='black', linewidth=0.5)\n",
    "\n",
    "plt.xlabel(r\"$\\beta_0$\")\n",
    "plt.ylabel(r\"$\\Delta SSD$\")\n",
    "plt.show()\n"
   ]
  },
  {
   "cell_type": "markdown",
   "id": "b2dd00c7",
   "metadata": {},
   "source": [
    "While as $\\alpha$ grows we clearly see that the full model becomes better fit, however at a very small values of $\\alpha$ no-intercept model performs better on average"
   ]
  },
  {
   "cell_type": "code",
   "execution_count": 141,
   "id": "c52f27e6",
   "metadata": {},
   "outputs": [
    {
     "data": {
      "text/plain": [
       "array([-8.59053758e-01, -1.05510966e+00, -7.47943525e-01, -1.04850132e+00,\n",
       "       -1.47634059e+00, -8.71365630e-01, -1.02204353e+00, -1.02110124e+00,\n",
       "       -9.73428008e-01, -8.25172628e-01, -1.02791640e+00, -9.84010712e-01,\n",
       "       -1.03250955e+00, -1.05036111e+00, -9.45910520e-01, -1.29378473e+00,\n",
       "       -9.41349894e-01, -9.63083750e-01, -8.88876493e-01, -8.19314806e-01,\n",
       "       -1.04954098e+00, -1.14035103e+00, -8.85048487e-01, -1.03327753e+00,\n",
       "       -1.00272651e+00, -1.01283705e+00, -1.02997904e+00, -1.02157933e+00,\n",
       "       -9.15204451e-01, -9.55467535e-01, -1.06288362e+00, -1.09307929e+00,\n",
       "       -1.06045859e+00, -8.09225514e-01, -1.00374849e+00, -1.02663196e+00,\n",
       "       -9.04381235e-01, -8.71833836e-01, -8.52287183e-01, -8.88677081e-01,\n",
       "       -9.07297576e-01, -1.38898614e+00, -1.01805140e+00, -1.06898848e+00,\n",
       "       -7.82061714e-01, -8.54561062e-01, -1.05177360e+00, -1.12738569e+00,\n",
       "       -8.67550812e-01, -1.17078049e+00, -8.66268975e-01, -1.17297481e+00,\n",
       "       -1.09674291e+00, -7.11767085e-01, -1.00722158e+00, -1.16966306e+00,\n",
       "       -1.02961667e+00, -9.64970713e-01, -9.74276703e-01, -8.73617198e-01,\n",
       "       -1.06917905e+00, -1.14501845e+00, -1.00707005e+00, -6.81520791e-01,\n",
       "       -8.51726831e-01, -9.00030735e-01, -9.76427260e-01, -7.25863430e-01,\n",
       "       -8.35121295e-01, -1.03351776e+00, -1.19415305e+00, -9.94526616e-01,\n",
       "       -9.03826587e-01, -1.04167421e+00, -9.00000075e-01, -9.45723412e-01,\n",
       "       -1.03961697e+00, -1.05912485e+00, -9.05658819e-01, -8.57860739e-01,\n",
       "       -9.12609303e-01, -7.98535364e-01, -9.51393840e-01, -8.53861240e-01,\n",
       "       -1.04526278e+00, -9.05639363e-01, -8.57866907e-01, -1.00336274e+00,\n",
       "       -1.05933227e+00, -1.12690410e+00, -1.19767014e+00, -9.40639645e-01,\n",
       "       -1.29397838e+00, -9.90939738e-01, -7.87031153e-01, -9.42782799e-01,\n",
       "       -9.56035851e-01, -9.86022975e-01, -1.10459272e+00, -9.31717624e-01,\n",
       "       -8.33147820e-01, -7.41723487e-01, -8.45983884e-01, -8.87340753e-01,\n",
       "       -9.14574373e-01, -8.76520367e-01, -1.12463062e+00, -1.02571975e+00,\n",
       "       -7.86612432e-01, -8.60319469e-01, -1.10831436e+00, -9.21146376e-01,\n",
       "       -7.75702892e-01, -9.78766647e-01, -1.22767376e+00, -8.86967642e-01,\n",
       "       -1.06622132e+00, -9.27370937e-01, -1.02911304e+00, -9.65615622e-01,\n",
       "       -1.00075790e+00, -8.86586034e-01, -1.13852976e+00, -8.48280423e-01,\n",
       "       -9.46990111e-01, -9.30264741e-01, -7.96726055e-01, -1.04376884e+00,\n",
       "       -9.26452378e-01, -1.10111043e+00, -9.16901915e-01, -1.02567432e+00,\n",
       "       -8.65795828e-01, -9.50335684e-01, -1.03627277e+00, -1.12394323e+00,\n",
       "       -9.64499901e-01, -7.21951135e-01, -8.59858781e-01, -8.54525244e-01,\n",
       "       -1.02771093e+00, -9.56033223e-01, -8.97217791e-01, -7.73577126e-01,\n",
       "       -1.03934091e+00, -8.71521652e-01, -8.87375233e-01, -7.92079717e-01,\n",
       "       -7.43448444e-01, -7.61799496e-01, -1.00990383e+00, -9.32493982e-01,\n",
       "       -1.16549528e+00, -1.04413349e+00, -8.64031766e-01, -8.90562172e-01,\n",
       "       -1.16453732e+00, -1.09940021e+00, -1.19727634e+00, -8.08531211e-01,\n",
       "       -8.34983769e-01, -1.00481645e+00, -1.01107220e+00, -6.90372556e-01,\n",
       "       -9.68545391e-01, -8.09709710e-01, -1.06828881e+00, -7.94872987e-01,\n",
       "       -9.25427240e-01, -1.07473873e+00, -8.64617811e-01, -8.75963416e-01,\n",
       "       -8.49611223e-01, -7.70468621e-01, -8.09666853e-01, -8.32032067e-01,\n",
       "       -8.24117870e-01, -6.67108060e-01, -9.30333755e-01, -8.48895937e-01,\n",
       "       -7.97359455e-01, -8.05594445e-01, -7.56230633e-01, -9.48470554e-01,\n",
       "       -9.93394603e-01, -9.74524501e-01, -8.89258932e-01, -7.78419422e-01,\n",
       "       -7.89396886e-01, -6.16764074e-01, -9.64038892e-01, -6.89970765e-01,\n",
       "       -9.29451795e-01, -6.91115342e-01, -7.99723634e-01, -8.31604234e-01,\n",
       "       -9.43862425e-01, -1.00312863e+00, -7.47043609e-01, -7.75017060e-01,\n",
       "       -8.00847423e-01, -7.56538642e-01, -8.22837403e-01, -9.39129580e-01,\n",
       "       -9.82448736e-01, -6.46784296e-01, -9.82562781e-01, -6.01201614e-01,\n",
       "       -1.06071592e+00, -8.49232707e-01, -8.07551724e-01, -8.88678288e-01,\n",
       "       -6.04385066e-01, -8.17352015e-01, -9.54175986e-01, -7.15744204e-01,\n",
       "       -1.01346051e+00, -6.50632654e-01, -8.17056789e-01, -6.59008807e-01,\n",
       "       -8.35106925e-01, -6.83796628e-01, -8.59997806e-01, -6.49705167e-01,\n",
       "       -5.25237164e-01, -7.42023074e-01, -7.61277204e-01, -7.91379529e-01,\n",
       "       -6.83275675e-01, -8.74764816e-01, -8.24078892e-01, -9.28899309e-01,\n",
       "       -8.00522225e-01, -7.51653587e-01, -4.92622918e-01, -1.02294175e+00,\n",
       "       -8.26860181e-01, -9.42199591e-01, -7.36674058e-01, -7.01415823e-01,\n",
       "       -8.66563837e-01, -1.11995416e+00, -8.54104372e-01, -7.15869362e-01,\n",
       "       -8.65960759e-01, -5.24723179e-01, -9.39996017e-01, -6.10627570e-01,\n",
       "       -1.06525326e+00, -6.50447222e-01, -8.88525090e-01, -6.60461479e-01,\n",
       "       -6.76551764e-01, -8.51088888e-01, -4.37251841e-01, -8.44187117e-01,\n",
       "       -9.29339630e-01, -6.67556212e-01, -6.22735934e-01, -8.81805594e-01,\n",
       "       -4.88889671e-01, -6.93512835e-01, -5.92513520e-01, -7.03750837e-01,\n",
       "       -4.53156887e-01, -1.04488380e+00, -6.51329479e-01, -9.37790659e-01,\n",
       "       -6.39003656e-01, -8.10595560e-01, -8.70360150e-01, -6.16231996e-01,\n",
       "       -6.97673353e-01, -8.25665779e-01, -6.30149488e-01, -8.05956808e-01,\n",
       "       -5.49353797e-01, -4.84871291e-01, -8.52000518e-01, -6.98787353e-01,\n",
       "       -4.94232122e-01, -5.85124263e-01, -4.80252366e-01, -5.98591419e-01,\n",
       "       -6.26369200e-01, -6.97391066e-01, -6.12962108e-01, -6.26599263e-01,\n",
       "       -5.45205474e-01, -5.56234627e-01, -6.83814090e-01, -6.21455347e-01,\n",
       "       -7.30771813e-01, -6.34723016e-01, -5.04248779e-01, -6.51358091e-01,\n",
       "       -4.35252621e-01, -6.04443308e-01, -7.97351885e-01, -4.40877279e-01,\n",
       "       -6.08022163e-01, -8.17441855e-01, -8.90810491e-01, -6.89337532e-01,\n",
       "       -6.86241089e-01, -8.72907041e-01, -6.57887253e-01, -7.31393028e-01,\n",
       "       -6.30140195e-01, -4.64995850e-01, -7.59304265e-01, -5.06576646e-01,\n",
       "       -6.94897757e-01, -5.62216716e-01, -4.72948066e-01, -5.50211616e-01,\n",
       "       -4.85878611e-01, -5.53557740e-01, -6.52225100e-01, -4.41798390e-01,\n",
       "       -6.19730841e-01, -7.42737338e-01, -4.40352961e-01, -6.75444555e-01,\n",
       "       -5.58469560e-01, -5.02273460e-01, -4.17172252e-01, -7.14892770e-01,\n",
       "       -3.45177958e-01, -3.83878021e-01, -6.93953704e-01, -7.28112264e-01,\n",
       "       -3.95169366e-01, -7.07955996e-01, -5.84074240e-01, -5.44908009e-01,\n",
       "       -2.79638710e-01, -3.18448137e-01, -5.79358603e-01, -5.62124017e-01,\n",
       "       -4.67341006e-01, -4.93081916e-01, -4.20579080e-01, -7.40250362e-01,\n",
       "       -4.95657569e-01, -5.35830282e-01, -6.05008712e-01, -5.56257415e-01,\n",
       "       -3.25958459e-01, -7.24691287e-01, -5.89801554e-01, -5.10497550e-01,\n",
       "       -3.88974167e-01, -4.29344796e-01, -6.41653528e-01, -1.88480033e-01,\n",
       "       -5.46932151e-01, -6.33216778e-01, -3.63922441e-01, -7.04130353e-01,\n",
       "       -2.75503167e-01, -3.54845794e-01, -7.19213069e-01, -4.15060838e-01,\n",
       "       -5.45469334e-01, -5.51229875e-01, -2.04962264e-01, -2.33821798e-01,\n",
       "       -3.01247048e-01, -3.70568340e-01, -4.94819989e-01, -4.78171049e-01,\n",
       "       -2.60632942e-01, -3.48469346e-01, -6.62399697e-01, -4.49126270e-01,\n",
       "       -3.53931818e-01, -3.73084338e-01, -3.45725448e-01, -3.18661939e-01,\n",
       "       -4.58256754e-01, -4.58288691e-01, -2.21007039e-01, -4.06024371e-01,\n",
       "       -3.22452427e-01, -2.76166643e-01, -2.23504637e-01, -1.89000976e-01,\n",
       "       -4.94476505e-01, -2.38772953e-01, -1.53519759e-01, -4.10672988e-01,\n",
       "       -3.92235527e-01, -3.68905590e-01, -4.23316497e-01, -4.05277696e-01,\n",
       "       -2.74003977e-01, -3.09265163e-01, -1.86507682e-01, -5.62258064e-01,\n",
       "       -2.28681445e-01, -2.14141255e-01, -1.83580194e-01, -3.93491997e-01,\n",
       "       -4.50463980e-01, -4.08573441e-01, -2.91348061e-01, -4.55965578e-01,\n",
       "       -5.74706063e-01, -6.42868487e-01, -3.95983639e-01, -1.26544138e-01,\n",
       "       -4.35311895e-01, -4.03947099e-01, -1.38428476e-01, -2.42592196e-01,\n",
       "       -5.42253847e-01, -3.77614942e-01, -3.02983201e-01, -1.83736087e-01,\n",
       "       -1.64533072e-01, -3.63988885e-01, -3.29172945e-01, -5.13105488e-01,\n",
       "       -2.39387042e-01, -2.28326616e-01, -1.34618908e-01, -3.59647638e-01,\n",
       "       -3.11305649e-01, -1.53977529e-01, -2.40716291e-01, -3.49809579e-01,\n",
       "       -3.66028478e-01, -5.32002133e-02, -5.53004495e-01, -2.92574667e-01,\n",
       "       -2.17332402e-01, -1.86596078e-01, -3.89954449e-01, -2.07016054e-01,\n",
       "       -2.40710319e-01, -1.56959609e-01, -2.13548558e-01, -2.91366316e-01,\n",
       "       -1.35300433e-01, -2.76142013e-01, -1.00209568e-01, -2.75778194e-01,\n",
       "       -1.61302151e-01, -1.96453368e-01, -4.12256597e-01, -1.66369653e-01,\n",
       "       -3.06132099e-01, -2.66052044e-01, -1.41378617e-01, -5.78700905e-02,\n",
       "       -2.76092536e-01, -3.76767983e-01, -4.14634602e-01, -5.40537289e-02,\n",
       "        5.82617677e-02,  5.79398443e-02, -1.23619973e-01,  7.90142127e-03,\n",
       "       -1.56476637e-01, -2.50689918e-01, -4.25578270e-01, -2.05652879e-01,\n",
       "        5.62800839e-02, -1.43919765e-01, -2.73567737e-01, -2.06667775e-01,\n",
       "        6.21220940e-02, -3.41103033e-02,  1.66265920e-01, -1.93338043e-01,\n",
       "       -2.05564877e-01, -5.28284065e-02,  4.26918613e-02, -2.18879152e-01,\n",
       "        8.92498683e-02,  2.67498818e-02, -2.58441141e-01, -2.51761107e-01,\n",
       "        1.82397002e-02,  9.38330786e-02,  7.71766256e-02, -1.01545959e-02,\n",
       "       -2.27581823e-01, -5.82078959e-02, -7.89303285e-02,  7.81821419e-02,\n",
       "        3.49240038e-02, -5.56446646e-02,  1.10372784e-01,  1.71535787e-01,\n",
       "       -4.22946683e-02,  8.70197172e-03, -2.04778101e-01,  2.17420452e-01,\n",
       "        6.29458877e-02, -1.84456276e-02,  2.16530474e-01, -9.47489786e-03,\n",
       "       -2.57109647e-02, -6.53242086e-02,  1.60807727e-02,  2.31184293e-01,\n",
       "       -4.01760798e-02, -1.43997510e-01,  5.98578962e-02, -5.24438125e-03,\n",
       "        1.94877911e-01,  2.20121670e-01,  1.16438209e-01,  1.50624513e-01,\n",
       "       -1.93307818e-02, -1.78721208e-01,  1.95789257e-01,  2.44636008e-01,\n",
       "        1.59268089e-01,  3.34763492e-01,  4.80582434e-02, -2.51700350e-02,\n",
       "       -6.08797934e-02,  3.55309413e-01,  1.68641955e-01,  1.17365257e-01,\n",
       "        1.52703916e-01,  2.09848083e-01,  6.78985433e-02,  2.88149529e-03,\n",
       "        4.77106749e-02,  1.07308262e-01,  9.18155265e-02,  7.67371925e-02,\n",
       "        7.93427711e-02,  1.58275595e-01,  3.63827455e-02,  1.28417474e-02,\n",
       "        1.00042289e-01,  3.25292765e-01,  2.54602088e-01, -2.03028884e-01,\n",
       "        2.15665660e-01,  2.06811820e-02,  2.42207494e-01,  9.56725342e-02,\n",
       "        1.12838008e-01,  2.79247023e-01,  4.21289093e-01,  4.39737186e-01,\n",
       "        1.21727698e-01,  3.12286399e-01,  3.07793067e-01,  4.01183731e-01,\n",
       "        1.80625228e-01,  4.30272677e-01,  5.46068623e-01,  2.44999405e-01,\n",
       "        4.81621280e-02,  1.73385240e-01,  5.83257695e-02,  3.03800021e-01,\n",
       "        2.29744629e-01,  1.75707169e-01,  1.82940916e-01,  3.38694759e-01,\n",
       "        3.26787183e-01,  2.50367894e-01,  3.34405847e-01,  1.54589508e-01,\n",
       "        1.89515663e-01,  3.11141368e-01,  3.78307575e-01, -6.37939281e-02,\n",
       "        1.96141107e-01,  4.88595548e-01,  2.59416495e-01,  3.25858183e-01,\n",
       "        3.40695098e-01,  3.72296843e-01,  3.39653039e-01,  3.96257985e-01,\n",
       "        8.62687537e-02,  3.26934645e-01,  5.38708541e-01,  3.36861805e-01,\n",
       "        1.87765441e-01,  1.29537120e-01,  3.89470742e-01,  5.70817833e-01,\n",
       "        5.27240708e-01,  3.27492559e-01,  4.82474088e-01,  4.54603789e-01,\n",
       "        4.52154604e-01,  1.72148847e-01,  2.12638303e-01,  5.88208892e-01,\n",
       "        2.07848877e-01,  3.61134244e-01,  4.45776506e-01,  5.51368727e-01,\n",
       "        1.77189326e-01,  6.46542540e-01,  9.15757314e-02,  3.95759437e-01,\n",
       "        5.44013522e-01,  3.61073295e-01,  3.66835673e-01,  5.95459365e-01,\n",
       "        4.41896496e-01,  4.13294409e-01,  4.82231788e-01,  4.16749935e-01,\n",
       "        2.90526885e-01,  5.40097165e-01,  6.83912718e-01,  6.04701940e-01,\n",
       "        4.84640440e-01,  6.21676692e-01,  5.83610106e-01,  6.59637820e-01,\n",
       "        9.83113060e-02,  4.41919975e-01,  2.75620963e-01,  5.93807842e-01,\n",
       "        6.13858231e-01,  5.14379757e-01,  5.23685663e-01,  7.31427136e-01,\n",
       "        3.92446313e-01,  5.86664780e-01,  4.33725331e-01,  5.10156028e-01,\n",
       "        5.59964672e-01,  4.25681608e-01,  5.72454511e-01,  6.05092065e-01,\n",
       "        6.06525940e-01,  4.85762815e-01,  6.32728998e-01,  6.95588802e-01,\n",
       "        5.63739512e-01,  6.17420648e-01,  7.34780752e-01,  7.28816538e-01,\n",
       "        4.41279511e-01,  6.80809206e-01,  6.28759714e-01,  5.90803748e-01,\n",
       "        8.70590216e-01,  6.24068286e-01,  5.55571237e-01,  8.61564227e-01,\n",
       "        8.48913524e-01,  7.74853709e-01,  8.92495609e-01,  9.34730756e-01,\n",
       "        9.38910731e-01,  5.91962975e-01,  5.46388685e-01,  7.07343761e-01,\n",
       "        8.94970916e-01,  5.85862665e-01,  8.49281091e-01,  8.63660173e-01,\n",
       "        6.19189024e-01,  5.91083244e-01,  6.88896785e-01,  7.00824219e-01,\n",
       "        6.90423363e-01,  8.73848344e-01,  7.87287911e-01,  7.53864588e-01,\n",
       "        5.62743893e-01,  7.31522393e-01,  7.97907816e-01,  9.43120538e-01,\n",
       "        7.99469897e-01,  6.98653891e-01,  8.51999571e-01,  7.51809190e-01,\n",
       "        1.07686729e+00,  8.61944294e-01,  8.98050588e-01,  6.64208429e-01,\n",
       "        9.48816744e-01,  8.66325252e-01,  1.06396385e+00,  1.06990683e+00,\n",
       "        8.12841243e-01,  1.16231149e+00,  1.12208090e+00,  9.76379867e-01,\n",
       "        9.45267675e-01,  9.03747944e-01,  1.13821729e+00,  9.95717370e-01,\n",
       "        7.87488057e-01,  1.06125537e+00,  8.94519974e-01,  8.69824989e-01,\n",
       "        9.19507721e-01,  7.83538174e-01,  8.95885093e-01,  9.11246952e-01,\n",
       "        1.03090334e+00,  9.31638527e-01,  1.04935008e+00,  9.94046250e-01,\n",
       "        1.06528607e+00,  1.06223975e+00,  9.76048623e-01,  1.06107749e+00,\n",
       "        1.04399171e+00,  9.94679277e-01,  1.02018565e+00,  1.01663453e+00,\n",
       "        1.13753528e+00,  1.08450181e+00,  9.91372065e-01,  1.05715763e+00,\n",
       "        1.08017331e+00,  1.15134934e+00,  1.03267864e+00,  1.01932909e+00,\n",
       "        1.02426074e+00,  9.99509641e-01,  1.37457615e+00,  1.00778247e+00,\n",
       "        1.10752627e+00,  1.11148830e+00,  1.17210637e+00,  1.11832555e+00,\n",
       "        1.21840143e+00,  1.07465650e+00,  1.31619681e+00,  1.06598779e+00,\n",
       "        1.15853559e+00,  1.38858475e+00,  1.18541886e+00,  1.31079856e+00,\n",
       "        1.43228290e+00,  1.16345765e+00,  1.12577671e+00,  1.22631313e+00,\n",
       "        1.06794339e+00,  1.26140278e+00,  1.30376808e+00,  9.90487681e-01,\n",
       "        1.32972752e+00,  1.09886732e+00,  1.36139772e+00,  1.28488629e+00,\n",
       "        1.53994985e+00,  1.52676692e+00,  9.43117900e-01,  1.47147955e+00,\n",
       "        1.25700347e+00,  1.27595767e+00,  1.19613325e+00,  1.43851223e+00,\n",
       "        1.31293264e+00,  1.49886622e+00,  1.21805843e+00,  1.38693330e+00,\n",
       "        1.23869807e+00,  1.43289838e+00,  1.24348866e+00,  1.49114717e+00,\n",
       "        1.55313925e+00,  1.41842509e+00,  1.48621325e+00,  1.66510339e+00,\n",
       "        1.19365883e+00,  1.25458801e+00,  1.43685304e+00,  1.52420884e+00,\n",
       "        1.51612658e+00,  1.44949093e+00,  1.34711375e+00,  1.53914950e+00,\n",
       "        1.33610767e+00,  1.16158984e+00,  1.61586285e+00,  1.44021585e+00,\n",
       "        1.33061408e+00,  1.71714098e+00,  1.44252565e+00,  1.20688041e+00,\n",
       "        1.26663979e+00,  1.51865789e+00,  1.62273534e+00,  1.57574083e+00,\n",
       "        1.57021517e+00,  1.39857969e+00,  1.44000329e+00,  1.52325581e+00,\n",
       "        1.68150984e+00,  1.88579865e+00,  1.65438618e+00,  1.47842356e+00,\n",
       "        1.58526623e+00,  1.43296551e+00,  1.35650286e+00,  1.54134632e+00,\n",
       "        1.57172377e+00,  1.69071504e+00,  1.46919149e+00,  1.58760537e+00,\n",
       "        1.59006252e+00,  1.21932027e+00,  1.68438875e+00,  1.75015553e+00,\n",
       "        1.62619792e+00,  1.34179850e+00,  1.65532361e+00,  1.73145653e+00,\n",
       "        1.72969728e+00,  1.57023493e+00,  1.72199585e+00,  1.48562508e+00,\n",
       "        1.74046638e+00,  1.92087116e+00,  1.68087109e+00,  1.49168208e+00,\n",
       "        1.44456570e+00,  1.55349135e+00,  1.57624037e+00,  1.62841944e+00,\n",
       "        1.75178926e+00,  1.83366950e+00,  1.76062431e+00,  1.91002372e+00,\n",
       "        1.52046030e+00,  1.78680234e+00,  1.79560841e+00,  1.82384676e+00,\n",
       "        1.66602671e+00,  1.86577687e+00,  1.80185331e+00,  1.83570349e+00,\n",
       "        1.91989468e+00,  1.91135481e+00,  1.90100176e+00,  1.97224831e+00,\n",
       "        1.75999732e+00,  1.89765702e+00,  1.81232079e+00,  1.73833979e+00,\n",
       "        1.84616371e+00,  1.85785801e+00,  1.86707469e+00,  2.03268946e+00,\n",
       "        1.63976449e+00,  1.70179471e+00,  2.01386855e+00,  1.70429441e+00,\n",
       "        1.87550722e+00,  1.86835572e+00,  1.94823845e+00,  2.01419043e+00,\n",
       "        1.92069748e+00,  2.15752359e+00,  2.07468103e+00,  1.68873062e+00,\n",
       "        2.07049378e+00,  1.90304495e+00,  2.01843810e+00,  2.06583539e+00,\n",
       "        2.20186954e+00,  1.86115008e+00,  1.88555919e+00,  2.20774847e+00,\n",
       "        2.12013171e+00,  1.93591039e+00,  2.00248433e+00,  2.17681165e+00,\n",
       "        2.03585656e+00,  1.89050607e+00,  2.07921455e+00,  2.17636381e+00,\n",
       "        2.29396272e+00,  2.06931612e+00,  2.34366453e+00,  2.27317950e+00,\n",
       "        2.14422118e+00,  2.11326643e+00,  2.12292907e+00,  2.25654022e+00,\n",
       "        2.04940964e+00,  2.28275689e+00,  2.29312015e+00,  2.17452724e+00,\n",
       "        2.35059958e+00,  2.21519870e+00,  2.17843362e+00,  2.06511986e+00,\n",
       "        2.20571185e+00,  2.00287196e+00,  2.34364432e+00,  2.29196256e+00,\n",
       "        2.30544309e+00,  2.21364609e+00,  2.08673337e+00,  2.35101554e+00,\n",
       "        2.24442325e+00,  2.32336850e+00,  2.21279007e+00,  2.37577004e+00,\n",
       "        2.41575860e+00,  2.19646275e+00,  2.33104876e+00,  2.03370026e+00,\n",
       "        2.33821271e+00,  2.35204827e+00,  2.10046633e+00,  2.39654495e+00,\n",
       "        2.10114660e+00,  2.08846981e+00,  2.44656075e+00,  2.31793594e+00,\n",
       "        2.25620829e+00,  2.41854236e+00,  2.41703520e+00,  2.31786654e+00,\n",
       "        2.51646642e+00,  2.44048239e+00,  2.43995118e+00,  2.49014790e+00,\n",
       "        2.54606814e+00,  2.43899651e+00,  2.71301923e+00,  2.58173320e+00,\n",
       "        2.41448880e+00,  2.79302462e+00,  2.50594206e+00,  2.69133534e+00,\n",
       "        2.33557227e+00,  2.38838461e+00,  2.51775874e+00,  2.61774986e+00,\n",
       "        2.57708422e+00,  2.47381389e+00,  2.46455815e+00,  2.32302853e+00,\n",
       "        2.67086178e+00,  2.28788636e+00,  2.66976237e+00,  2.50232417e+00,\n",
       "        2.65380080e+00,  2.32779152e+00,  2.82200233e+00,  2.34067709e+00,\n",
       "        2.91430285e+00,  2.12043506e+00,  2.66373213e+00,  2.86809737e+00,\n",
       "        2.53225682e+00,  2.52822974e+00,  2.72133212e+00,  2.52418927e+00,\n",
       "        2.54598425e+00,  2.82514686e+00,  2.83581392e+00,  2.79485110e+00,\n",
       "        2.73131029e+00,  2.81867876e+00,  2.59087998e+00,  2.71923280e+00,\n",
       "        2.65251469e+00,  2.69394720e+00,  2.65973038e+00,  2.88479805e+00,\n",
       "        2.87402802e+00,  2.72891130e+00,  2.80853934e+00,  3.00708383e+00,\n",
       "        2.95418251e+00,  2.61695731e+00,  2.82434169e+00,  3.05177954e+00,\n",
       "        2.91942760e+00,  2.87490875e+00,  2.95856964e+00,  2.38210959e+00,\n",
       "        2.59521401e+00,  3.10690717e+00,  2.60681346e+00,  2.77408165e+00,\n",
       "        2.86272451e+00,  2.88206573e+00,  2.98319240e+00,  3.07930720e+00,\n",
       "        2.80704323e+00,  2.83279378e+00,  2.95254246e+00,  3.09453559e+00])"
      ]
     },
     "execution_count": 141,
     "metadata": {},
     "output_type": "execute_result"
    }
   ],
   "source": [
    "delta_SSD"
   ]
  },
  {
   "cell_type": "code",
   "execution_count": null,
   "id": "175b9d71",
   "metadata": {},
   "outputs": [],
   "source": []
  }
 ],
 "metadata": {
  "kernelspec": {
   "display_name": "Python 3 (ipykernel)",
   "language": "python",
   "name": "python3"
  },
  "language_info": {
   "codemirror_mode": {
    "name": "ipython",
    "version": 3
   },
   "file_extension": ".py",
   "mimetype": "text/x-python",
   "name": "python",
   "nbconvert_exporter": "python",
   "pygments_lexer": "ipython3",
   "version": "3.9.12"
  }
 },
 "nbformat": 4,
 "nbformat_minor": 5
}

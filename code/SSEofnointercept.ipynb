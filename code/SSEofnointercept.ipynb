{
 "cells": [
  {
   "cell_type": "markdown",
   "metadata": {},
   "source": [
    "The true relationship is no intercept. Let's check SSE of both models"
   ]
  },
  {
   "cell_type": "code",
   "execution_count": 302,
   "metadata": {},
   "outputs": [],
   "source": [
    "import numpy as np\n",
    "import matplotlib.pyplot as plt\n",
    "from sklearn.linear_model import LinearRegression\n",
    "from linear_regression import linear_regression\n",
    "\n",
    "# np.random.seed(42)\n",
    "def sse_no_intercept_smaller():\n",
    "    num_samples = 100  # number of sample points\n",
    "\n",
    "    X = np.linspace(0, 10, num_samples) * 2 - 1 \n",
    "\n",
    "    beta =  1   # true slope\n",
    "    beta_0 = 0\n",
    "    noise = np.random.normal(0, 0.5, num_samples)  # standard normal noise term\n",
    "    y = beta * X + noise + beta_0\n",
    "\n",
    "\n",
    "    # mean_x = np.average(X)\n",
    "    # mean_y = np.average(y)\n",
    "\n",
    "    # print(mean_y)\n",
    "\n",
    "    # Sxx = np.sum((X-mean_x)**2)\n",
    "    # Sxy = np.sum((X-mean_x)*(y-mean_y))\n",
    "\n",
    "    # beta_1_hat = Sxy/Sxx\n",
    "    # beta_0_hat = mean_y - beta_1_hat * mean_x\n",
    "    # beta_hat = np.sum(X*y)/np.sum(X**2)\n",
    "\n",
    "\n",
    "    # y_hat = beta_1_hat * X + beta_0_hat  # intercept model response variable\n",
    "    # print(y_hat)\n",
    "    # y_hat_hat = beta_hat * X  # no-intercept response variable\n",
    "\n",
    "\n",
    "    y_hat = linear_regression(X,y, intercept=True) \n",
    "    y_hat_hat = linear_regression(X,y, intercept=False) \n",
    "    y_hat = y_hat.flatten()\n",
    "    y_hat_hat = y_hat_hat.flatten()\n",
    "\n",
    "    if np.sum((y-y_hat)**2) > np.sum((y-y_hat_hat)**2):\n",
    "        return 1\n",
    "    return 0\n"
   ]
  },
  {
   "cell_type": "code",
   "execution_count": 303,
   "metadata": {},
   "outputs": [
    {
     "name": "stdout",
     "output_type": "stream",
     "text": [
      "0.0\n"
     ]
    }
   ],
   "source": [
    "c = 0\n",
    "for i in range(1000):\n",
    "    c += sse_no_intercept_smaller()\n",
    "\n",
    "print(c/1000)"
   ]
  },
  {
   "cell_type": "code",
   "execution_count": 288,
   "metadata": {},
   "outputs": [
    {
     "name": "stdout",
     "output_type": "stream",
     "text": [
      "0.08907674130295316\n",
      "[-0.94540643 -0.92450778 -0.90360913 -0.88271048 -0.86181183 -0.84091318\n",
      " -0.82001453 -0.79911588 -0.77821723 -0.75731858 -0.73641993 -0.71552128\n",
      " -0.69462263 -0.67372398 -0.65282533 -0.63192668 -0.61102803 -0.59012938\n",
      " -0.56923073 -0.54833208 -0.52743343 -0.50653478 -0.48563613 -0.46473748\n",
      " -0.44383883 -0.42294018 -0.40204153 -0.38114288 -0.36024423 -0.33934558\n",
      " -0.31844693 -0.29754828 -0.27664963 -0.25575098 -0.23485233 -0.21395368\n",
      " -0.19305503 -0.17215638 -0.15125773 -0.13035908 -0.10946043 -0.08856178\n",
      " -0.06766313 -0.04676448 -0.02586583 -0.00496718  0.01593147  0.03683012\n",
      "  0.05772877  0.07862742  0.09952607  0.12042472  0.14132337  0.16222202\n",
      "  0.18312067  0.20401932  0.22491797  0.24581662  0.26671527  0.28761392\n",
      "  0.30851256  0.32941121  0.35030986  0.37120851  0.39210716  0.41300581\n",
      "  0.43390446  0.45480311  0.47570176  0.49660041  0.51749906  0.53839771\n",
      "  0.55929636  0.58019501  0.60109366  0.62199231  0.64289096  0.66378961\n",
      "  0.68468826  0.70558691  0.72648556  0.74738421  0.76828286  0.78918151\n",
      "  0.81008016  0.83097881  0.85187746  0.87277611  0.89367476  0.91457341\n",
      "  0.93547206  0.95637071  0.97726936  0.99816801  1.01906666  1.03996531\n",
      "  1.06086396  1.08176261  1.10266126  1.12355991]\n",
      "[-1.03448317 -1.01358452 -0.99268587 -0.97178722 -0.95088857 -0.92998992\n",
      " -0.90909127 -0.88819262 -0.86729397 -0.84639532 -0.82549667 -0.80459802\n",
      " -0.78369937 -0.76280072 -0.74190207 -0.72100342 -0.70010477 -0.67920612\n",
      " -0.65830747 -0.63740882 -0.61651017 -0.59561152 -0.57471287 -0.55381422\n",
      " -0.53291557 -0.51201692 -0.49111827 -0.47021962 -0.44932097 -0.42842232\n",
      " -0.40752367 -0.38662502 -0.36572637 -0.34482772 -0.32392907 -0.30303042\n",
      " -0.28213177 -0.26123312 -0.24033447 -0.21943582 -0.19853717 -0.17763852\n",
      " -0.15673987 -0.13584122 -0.11494257 -0.09404392 -0.07314527 -0.05224662\n",
      " -0.03134797 -0.01044932  0.01044932  0.03134797  0.05224662  0.07314527\n",
      "  0.09404392  0.11494257  0.13584122  0.15673987  0.17763852  0.19853717\n",
      "  0.21943582  0.24033447  0.26123312  0.28213177  0.30303042  0.32392907\n",
      "  0.34482772  0.36572637  0.38662502  0.40752367  0.42842232  0.44932097\n",
      "  0.47021962  0.49111827  0.51201692  0.53291557  0.55381422  0.57471287\n",
      "  0.59561152  0.61651017  0.63740882  0.65830747  0.67920612  0.70010477\n",
      "  0.72100342  0.74190207  0.76280072  0.78369937  0.80459802  0.82549667\n",
      "  0.84639532  0.86729397  0.88819262  0.90909127  0.92998992  0.95088857\n",
      "  0.97178722  0.99268587  1.01358452  1.03448317]\n",
      "[-1.03448317 -1.01358452 -0.99268587 -0.97178722 -0.95088857 -0.92998992\n",
      " -0.90909127 -0.88819262 -0.86729397 -0.84639532 -0.82549667 -0.80459802\n",
      " -0.78369937 -0.76280072 -0.74190207 -0.72100342 -0.70010477 -0.67920612\n",
      " -0.65830747 -0.63740882 -0.61651017 -0.59561152 -0.57471287 -0.55381422\n",
      " -0.53291557 -0.51201692 -0.49111827 -0.47021962 -0.44932097 -0.42842232\n",
      " -0.40752367 -0.38662502 -0.36572637 -0.34482772 -0.32392907 -0.30303042\n",
      " -0.28213177 -0.26123312 -0.24033447 -0.21943582 -0.19853717 -0.17763852\n",
      " -0.15673987 -0.13584122 -0.11494257 -0.09404392 -0.07314527 -0.05224662\n",
      " -0.03134797 -0.01044932  0.01044932  0.03134797  0.05224662  0.07314527\n",
      "  0.09404392  0.11494257  0.13584122  0.15673987  0.17763852  0.19853717\n",
      "  0.21943582  0.24033447  0.26123312  0.28213177  0.30303042  0.32392907\n",
      "  0.34482772  0.36572637  0.38662502  0.40752367  0.42842232  0.44932097\n",
      "  0.47021962  0.49111827  0.51201692  0.53291557  0.55381422  0.57471287\n",
      "  0.59561152  0.61651017  0.63740882  0.65830747  0.67920612  0.70010477\n",
      "  0.72100342  0.74190207  0.76280072  0.78369937  0.80459802  0.82549667\n",
      "  0.84639532  0.86729397  0.88819262  0.90909127  0.92998992  0.95088857\n",
      "  0.97178722  0.99268587  1.01358452  1.03448317]\n"
     ]
    },
    {
     "data": {
      "text/plain": [
       "2.028537029894504"
      ]
     },
     "execution_count": 288,
     "metadata": {},
     "output_type": "execute_result"
    },
    {
     "data": {
      "image/png": "[encoded data removed]",
      "text/plain": [
       "<Figure size 432x288 with 1 Axes>"
      ]
     },
     "metadata": {
      "needs_background": "light"
     },
     "output_type": "display_data"
    }
   ],
   "source": [
    "num_samples = 100  # number of sample points\n",
    "\n",
    "X = np.linspace(0, 1, num_samples) * 2 - 1 \n",
    "#X = np.random.rand(num_samples) * 2 - 1\n",
    "\n",
    "np.random.seed(42)\n",
    "\n",
    "beta =  1   # true slope\n",
    "beta_0 = 0.1410\n",
    "noise = np.random.normal(0, 0.5, num_samples)  # standard normal noise term\n",
    "y = beta * X + noise + beta_0\n",
    "\n",
    "y_hat_sk = linear_regression(X,y, intercept=True) \n",
    "y_hat_hat_sk = linear_regression(X,y, intercept=False) \n",
    "y_hat_hat_sk.reshape(-1)\n",
    "mean_x = np.average(X)\n",
    "mean_y = np.average(y)\n",
    "\n",
    "print(mean_y)\n",
    "\n",
    "Sxx = np.sum((X-mean_x)**2)\n",
    "Sxy = np.sum((X-mean_x)*(y-mean_y))\n",
    "\n",
    "beta_1_hat = Sxy/Sxx\n",
    "beta_0_hat = mean_y - beta_1_hat * mean_x\n",
    "beta_hat = np.sum(X*y)/np.sum(X**2)\n",
    "\n",
    "\n",
    "y_hat = beta_1_hat * X + beta_0_hat  # intercept model response variable\n",
    "print(y_hat)\n",
    "y_hat_hat = beta_hat * X  # no-intercept response variable\n",
    "\n",
    "\n",
    "plt.plot(X, y_hat_sk, 'blue', linewidth=0.5)\n",
    "plt.plot(X, y_hat, 'r--', linewidth=0.5)\n",
    "\n",
    "y_true = beta * X + beta_0\n",
    "y_hat_hat_sk.flatten()\n",
    "print(y_hat_hat_sk.flatten())\n",
    "print(y_hat_hat)\n",
    "\n",
    "np.sum((y_true - y_hat_hat)**2)\n"
   ]
  },
  {
   "cell_type": "code",
   "execution_count": null,
   "metadata": {},
   "outputs": [],
   "source": []
  }
 ],
 "metadata": {
  "kernelspec": {
   "display_name": "base",
   "language": "python",
   "name": "python3"
  },
  "language_info": {
   "codemirror_mode": {
    "name": "ipython",
    "version": 3
   },
   "file_extension": ".py",
   "mimetype": "text/x-python",
   "name": "python",
   "nbconvert_exporter": "python",
   "pygments_lexer": "ipython3",
   "version": "3.9.12"
  }
 },
 "nbformat": 4,
 "nbformat_minor": 2
}

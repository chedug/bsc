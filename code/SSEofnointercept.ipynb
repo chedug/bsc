{
 "cells": [
  {
   "cell_type": "markdown",
   "metadata": {},
   "source": [
    "The true relationship is no intercept. Let's check SSE of both models"
   ]
  },
  {
   "cell_type": "code",
   "execution_count": 269,
   "metadata": {},
   "outputs": [
    {
     "name": "stdout",
     "output_type": "stream",
     "text": [
      "20.372617837451955\n",
      "20.415191158126014\n"
     ]
    }
   ],
   "source": [
    "import numpy as np\n",
    "import matplotlib.pyplot as plt\n",
    "from sklearn.linear_model import LinearRegression\n",
    "from linear_regression import linear_regression\n",
    "\n",
    "# np.random.seed(42)\n",
    "def sse_no_intercept_smaller():\n",
    "    num_samples = 100  # number of sample points\n",
    "\n",
    "    X = np.linspace(0, 0.01, num_samples) * 2 - 1 \n",
    "    #X = np.random.rand(num_samples) * 2 - 1\n",
    "\n",
    "    beta =  11   # true slope\n",
    "    beta_0 = 0\n",
    "    noise = np.random.normal(0, 0.5, num_samples)  # standard normal noise term\n",
    "    y = beta * X + noise + beta_0\n",
    "\n",
    "    y_hat = linear_regression(X,y, intercept=True) \n",
    "    y_hat_hat = linear_regression(X,y, intercept=False) \n",
    "\n",
    "    if np.sum((y-y_hat)**2) > np.sum((y-y_hat_hat)**2):\n",
    "        return 1\n",
    "    return 0\n",
    "\n",
    "print(np.sum((y-y_hat)**2))\n",
    "print(np.sum((y-y_hat_hat)**2))"
   ]
  },
  {
   "cell_type": "code",
   "execution_count": 270,
   "metadata": {},
   "outputs": [
    {
     "name": "stdout",
     "output_type": "stream",
     "text": [
      "0.521\n"
     ]
    }
   ],
   "source": [
    "c = 0\n",
    "for i in range(1000):\n",
    "    c += sse_no_intercept_smaller()\n",
    "\n",
    "print(c/1000)"
   ]
  },
  {
   "cell_type": "code",
   "execution_count": 273,
   "metadata": {},
   "outputs": [
    {
     "name": "stdout",
     "output_type": "stream",
     "text": [
      "-9.810923258697047\n",
      "[-9.94540643 -9.9426896  -9.93997276 -9.93725593 -9.9345391  -9.93182227\n",
      " -9.92910544 -9.92638861 -9.92367177 -9.92095494 -9.91823811 -9.91552128\n",
      " -9.91280445 -9.91008762 -9.90737078 -9.90465395 -9.90193712 -9.89922029\n",
      " -9.89650346 -9.89378663 -9.89106979 -9.88835296 -9.88563613 -9.8829193\n",
      " -9.88020247 -9.87748563 -9.8747688  -9.87205197 -9.86933514 -9.86661831\n",
      " -9.86390148 -9.86118464 -9.85846781 -9.85575098 -9.85303415 -9.85031732\n",
      " -9.84760049 -9.84488365 -9.84216682 -9.83944999 -9.83673316 -9.83401633\n",
      " -9.8312995  -9.82858266 -9.82586583 -9.823149   -9.82043217 -9.81771534\n",
      " -9.81499851 -9.81228167 -9.80956484 -9.80684801 -9.80413118 -9.80141435\n",
      " -9.79869752 -9.79598068 -9.79326385 -9.79054702 -9.78783019 -9.78511336\n",
      " -9.78239653 -9.77967969 -9.77696286 -9.77424603 -9.7715292  -9.76881237\n",
      " -9.76609554 -9.7633787  -9.76066187 -9.75794504 -9.75522821 -9.75251138\n",
      " -9.74979455 -9.74707771 -9.74436088 -9.74164405 -9.73892722 -9.73621039\n",
      " -9.73349356 -9.73077672 -9.72805989 -9.72534306 -9.72262623 -9.7199094\n",
      " -9.71719257 -9.71447573 -9.7117589  -9.70904207 -9.70632524 -9.70360841\n",
      " -9.70089158 -9.69817474 -9.69545791 -9.69274108 -9.69002425 -9.68730742\n",
      " -9.68459059 -9.68187375 -9.67915692 -9.67644009]\n",
      "[[-9.94540643]\n",
      " [-9.9426896 ]\n",
      " [-9.93997276]\n",
      " [-9.93725593]\n",
      " [-9.9345391 ]\n",
      " [-9.93182227]\n",
      " [-9.92910544]\n",
      " [-9.92638861]\n",
      " [-9.92367177]\n",
      " [-9.92095494]\n",
      " [-9.91823811]\n",
      " [-9.91552128]\n",
      " [-9.91280445]\n",
      " [-9.91008762]\n",
      " [-9.90737078]\n",
      " [-9.90465395]\n",
      " [-9.90193712]\n",
      " [-9.89922029]\n",
      " [-9.89650346]\n",
      " [-9.89378663]\n",
      " [-9.89106979]\n",
      " [-9.88835296]\n",
      " [-9.88563613]\n",
      " [-9.8829193 ]\n",
      " [-9.88020247]\n",
      " [-9.87748563]\n",
      " [-9.8747688 ]\n",
      " [-9.87205197]\n",
      " [-9.86933514]\n",
      " [-9.86661831]\n",
      " [-9.86390148]\n",
      " [-9.86118464]\n",
      " [-9.85846781]\n",
      " [-9.85575098]\n",
      " [-9.85303415]\n",
      " [-9.85031732]\n",
      " [-9.84760049]\n",
      " [-9.84488365]\n",
      " [-9.84216682]\n",
      " [-9.83944999]\n",
      " [-9.83673316]\n",
      " [-9.83401633]\n",
      " [-9.8312995 ]\n",
      " [-9.82858266]\n",
      " [-9.82586583]\n",
      " [-9.823149  ]\n",
      " [-9.82043217]\n",
      " [-9.81771534]\n",
      " [-9.81499851]\n",
      " [-9.81228167]\n",
      " [-9.80956484]\n",
      " [-9.80684801]\n",
      " [-9.80413118]\n",
      " [-9.80141435]\n",
      " [-9.79869752]\n",
      " [-9.79598068]\n",
      " [-9.79326385]\n",
      " [-9.79054702]\n",
      " [-9.78783019]\n",
      " [-9.78511336]\n",
      " [-9.78239653]\n",
      " [-9.77967969]\n",
      " [-9.77696286]\n",
      " [-9.77424603]\n",
      " [-9.7715292 ]\n",
      " [-9.76881237]\n",
      " [-9.76609554]\n",
      " [-9.7633787 ]\n",
      " [-9.76066187]\n",
      " [-9.75794504]\n",
      " [-9.75522821]\n",
      " [-9.75251138]\n",
      " [-9.74979455]\n",
      " [-9.74707771]\n",
      " [-9.74436088]\n",
      " [-9.74164405]\n",
      " [-9.73892722]\n",
      " [-9.73621039]\n",
      " [-9.73349356]\n",
      " [-9.73077672]\n",
      " [-9.72805989]\n",
      " [-9.72534306]\n",
      " [-9.72262623]\n",
      " [-9.7199094 ]\n",
      " [-9.71719257]\n",
      " [-9.71447573]\n",
      " [-9.7117589 ]\n",
      " [-9.70904207]\n",
      " [-9.70632524]\n",
      " [-9.70360841]\n",
      " [-9.70089158]\n",
      " [-9.69817474]\n",
      " [-9.69545791]\n",
      " [-9.69274108]\n",
      " [-9.69002425]\n",
      " [-9.68730742]\n",
      " [-9.68459059]\n",
      " [-9.68187375]\n",
      " [-9.67915692]\n",
      " [-9.67644009]]\n"
     ]
    },
    {
     "data": {
      "text/plain": [
       "0.31003950926655804"
      ]
     },
     "execution_count": 273,
     "metadata": {},
     "output_type": "execute_result"
    },
    {
     "data": {
      "image/png": "[encoded data removed]",
      "text/plain": [
       "<Figure size 432x288 with 1 Axes>"
      ]
     },
     "metadata": {
      "needs_background": "light"
     },
     "output_type": "display_data"
    }
   ],
   "source": [
    "num_samples = 100  # number of sample points\n",
    "\n",
    "X = np.linspace(0, 0.01, num_samples) * 2 - 1 \n",
    "#X = np.random.rand(num_samples) * 2 - 1\n",
    "\n",
    "np.random.seed(42)\n",
    "\n",
    "beta =  10   # true slope\n",
    "beta_0 = 0.1410\n",
    "noise = np.random.normal(0, 0.5, num_samples)  # standard normal noise term\n",
    "y = beta * X + noise + beta_0\n",
    "\n",
    "\n",
    "y_hat_sk = linear_regression(X,y, intercept=True) \n",
    "y_hat_hat_sk = linear_regression(X,y, intercept=False) \n",
    "y_hat_sk.reshape(-1)\n",
    "mean_x = np.average(X)\n",
    "mean_y = np.average(y)\n",
    "\n",
    "print(mean_y)\n",
    "\n",
    "Sxx = np.sum((X-mean_x)**2)\n",
    "Sxy = np.sum((X-mean_x)*(y-mean_y))\n",
    "\n",
    "beta_1_hat = Sxy/Sxx\n",
    "beta_0_hat = mean_y - beta_1_hat * mean_x\n",
    "beta_hat = np.sum(X*y)/np.sum(X**2)\n",
    "\n",
    "\n",
    "y_hat = beta_1_hat * X + beta_0_hat  # intercept model response variable\n",
    "print(y_hat)\n",
    "# y_hat_hat = beta_hat * X  # no-intercept response variable\n",
    "\n",
    "\n",
    "plt.plot(X, y_hat_sk, 'blue', linewidth=0.5)\n",
    "plt.plot(X, y_hat, 'r--', linewidth=0.5)\n",
    "\n",
    "y_true = beta * X + beta_0\n",
    "y_hat_sk.flatten()\n",
    "print(y_hat_sk)\n",
    "\n",
    "np.sum((y_true - y_hat)**2)\n"
   ]
  },
  {
   "cell_type": "code",
   "execution_count": null,
   "metadata": {},
   "outputs": [],
   "source": []
  }
 ],
 "metadata": {
  "kernelspec": {
   "display_name": "base",
   "language": "python",
   "name": "python3"
  },
  "language_info": {
   "codemirror_mode": {
    "name": "ipython",
    "version": 3
   },
   "file_extension": ".py",
   "mimetype": "text/x-python",
   "name": "python",
   "nbconvert_exporter": "python",
   "pygments_lexer": "ipython3",
   "version": "3.9.12"
  }
 },
 "nbformat": 4,
 "nbformat_minor": 2
}
